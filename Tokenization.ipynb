{
 "cells": [
  {
   "cell_type": "code",
   "execution_count": null,
   "id": "9e563c99-6543-494d-bcd5-01d04f06f9dc",
   "metadata": {},
   "outputs": [],
   "source": [
    "import vertexai # Import the vertexai library\n",
    "from vertexai.generative_models import GenerativeModel # Import GenerativeModel correctly\n",
    "\n",
    "\n",
    "import requests\n",
    "from google.cloud import aiplatform\n",
    "from pymongo import MongoClient\n",
    "import datetime\n",
    "\n",
    "\n",
    "aiplatform.init(\n",
    "    project=\"#######\",\n",
    "    location=\"us-central1\",  # Change if you're using a different region\n",
    ")\n",
    "\n",
    "\n",
    "\n",
    "\n",
    "model = GenerativeModel(\"gemini-2.0-flash-lite\")\n",
    "\n",
    "mongo_client = MongoClient(\"mongodb://localhost:27017\")\n",
    "db = mongo_client[\"youtube_data\"]\n",
    "collection = db[\"tsla_videos\"]\n",
    "\n",
    "\n",
    "documents = list(collection.find({\"transcript\": {\"$exists\": True, \"$ne\": \"\"}}))\n",
    "print(f\"Found {len(documents)} transcripts.\")\n",
    "\n",
    "total_tokens = 0\n",
    "\n",
    "for doc in documents:\n",
    "    transcript = doc[\"transcript\"]\n",
    "    try:\n",
    "        response = model.count_tokens(transcript)\n",
    "        tokens = response.total_tokens\n",
    "        total_tokens += tokens\n",
    "    except Exception as e:\n",
    "        print(f\"Failed to count tokens for video {doc.get('video_url', '')}: {e}\")\n",
    "\n",
    "print(f\"\\n✅ Total token count across all TSLA transcripts: {total_tokens}\")\n"
   ]
  }
 ],
 "metadata": {
  "kernelspec": {
   "display_name": "Python 3 (ipykernel)",
   "language": "python",
   "name": "python3"
  },
  "language_info": {
   "codemirror_mode": {
    "name": "ipython",
    "version": 3
   },
   "file_extension": ".py",
   "mimetype": "text/x-python",
   "name": "python",
   "nbconvert_exporter": "python",
   "pygments_lexer": "ipython3",
   "version": "3.10.9"
  }
 },
 "nbformat": 4,
 "nbformat_minor": 5
}
